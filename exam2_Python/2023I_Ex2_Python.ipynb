{
 "cells": [
  {
   "cell_type": "markdown",
   "metadata": {
    "id": "CEZHzeOFsfj6"
   },
   "source": [
    "<img src=\"https://www.universidades.com.ec/logos/original/logo-universidad-regional-amazonica-ikiam.webp\" width=300 height=240 />\n",
    "\n",
    "# EXAMEN PARCIAL PYTHON\n",
    "    \n",
    "\n",
    "## GBI6 - BIOINFORMÁTICA\n",
    "\n",
    "**Apellidos, Nombres** <font color='red'>Salazar Masache Elizabeth Thalia</font>\n",
    "\n",
    "**29-06-2023**"
   ]
  },
  {
   "cell_type": "markdown",
   "metadata": {
    "id": "tGwhY7HlsfkC"
   },
   "source": [
    "## Ejercicio 0.1 [0.5 puntos]\n",
    "Realice cambios al cuaderno de jupyter: \n",
    "- Agregue el logo de la Universidad\n",
    "- Coloque sus datos personales \n",
    "- Use el terminal para crear las carpetas `results` y `data`.\n",
    "- Use el terminal y mueva `gstm.txt` que tiene un listado de accesiones de glutathione transferase a la carpeta `data`.\n"
   ]
  },
  {
   "cell_type": "code",
   "execution_count": 14,
   "metadata": {},
   "outputs": [],
   "source": [
    "import shutil\n",
    "import os"
   ]
  },
  {
   "cell_type": "code",
   "execution_count": 2,
   "metadata": {},
   "outputs": [],
   "source": [
    "mkdir results"
   ]
  },
  {
   "cell_type": "code",
   "execution_count": 3,
   "metadata": {},
   "outputs": [],
   "source": [
    "mkdir data"
   ]
  },
  {
   "cell_type": "code",
   "execution_count": 44,
   "metadata": {
    "scrolled": true
   },
   "outputs": [],
   "source": [
    "file_source = 'gstm.txt'\n",
    "file_destination = 'data'"
   ]
  },
  {
   "cell_type": "markdown",
   "metadata": {
    "id": "zXz2VQ92sfkE"
   },
   "source": [
    "## Ejercicio 1 [4.0 puntos]\n",
    "\n",
    "Cargue el módulo `popsimulate`, luego: \n",
    "\n",
    "1.1. explique lo que hace cada línea de la función `build_population`, simule un ejemplo y explique el resultado. \n",
    "\n",
    "1.2. explique lo que hace cada línea de la función `compute_frequencies`, simule un ejemplo y explique el resultado. \n",
    "\n",
    "1.3. explique lo que hace cada línea de la función `reproduce_population`, simule un ejemplo y explique el resultado. \n",
    "\n",
    "1.4. explique lo que hace cada línea de la función `simulate_drift`, simule un ejemplo y explique el resultado. "
   ]
  },
  {
   "cell_type": "code",
   "execution_count": 37,
   "metadata": {
    "id": "6nZuF5_ksfkF"
   },
   "outputs": [
    {
     "name": "stdout",
     "output_type": "stream",
     "text": [
      "Población generada: [35, 66, 76, 31, 64, 81, 84, 22, 8, 88]\n"
     ]
    }
   ],
   "source": [
    "# Escriba aquí su código para el ejercicio 1.1\n",
    "import random\n",
    "\n",
    "def build_population(N, min_value, max_value):\n",
    "    population = []\n",
    "    for _ in range(N):\n",
    "        number = random.randint(min_value, max_value)\n",
    "        population.append(number)\n",
    "    return population\n",
    "\n",
    "# Ejemplo de uso\n",
    "population_size = 10\n",
    "min_num = 1\n",
    "max_num = 100\n",
    "\n",
    "population = build_population(population_size, min_num, max_num)\n",
    "print(\"Población generada:\", population)\n",
    "\n",
    "\n"
   ]
  },
  {
   "cell_type": "code",
   "execution_count": 40,
   "metadata": {},
   "outputs": [
    {
     "name": "stdout",
     "output_type": "stream",
     "text": [
      "Frecuencias de los números en la población:\n",
      "Número: 1, Frecuencia: 4\n",
      "Número: 2, Frecuencia: 4\n",
      "Número: 3, Frecuencia: 3\n",
      "Número: 4, Frecuencia: 2\n",
      "Número: 5, Frecuencia: 2\n"
     ]
    }
   ],
   "source": [
    "# Escriba aquí su código para el ejercicio 1.2\n",
    "import random\n",
    "\n",
    "def compute_frequencies(population):\n",
    "    freq_dict = {}\n",
    "    for number in population:\n",
    "        if number in freq_dict:\n",
    "            freq_dict[number] += 1\n",
    "        else:\n",
    "            freq_dict[number] = 1\n",
    "    return freq_dict\n",
    "\n",
    "# Ejemplo de uso\n",
    "population = [1, 2, 3, 2, 1, 3, 4, 2, 1, 4, 5,w 5, 3, 2, 1]\n",
    "frequencies = compute_frequencies(population)\n",
    "\n",
    "print(\"Frecuencias de los números en la población:\")\n",
    "for number, frequency in frequencies.items():\n",
    "    print(f\"Número: {number}, Frecuencia: {frequency}\")\n"
   ]
  },
  {
   "cell_type": "code",
   "execution_count": 41,
   "metadata": {},
   "outputs": [
    {
     "name": "stdout",
     "output_type": "stream",
     "text": [
      "Nueva generación de individuos:\n",
      "('a', 'A')\n",
      "('a', 'A')\n",
      "('a', 'A')\n",
      "('A', 'a')\n"
     ]
    }
   ],
   "source": [
    "# Escriba aquí su código para el ejercicio 1.3\n",
    "import random\n",
    "\n",
    "def reproduce_population(population):\n",
    "    new_generation = []\n",
    "    N = len(population)\n",
    "    for _ in range(N):\n",
    "        dad = random.randint(0, N-1)\n",
    "        mom = random.randint(0, N-1)\n",
    "        chr_mom = random.randint(0, 1)\n",
    "        offspring = (population[mom][chr_mom], population[dad][1 - chr_mom])\n",
    "        new_generation.append(offspring)\n",
    "    return new_generation\n",
    "\n",
    "# Ejemplo de uso\n",
    "population = [(\"A\", \"A\"), (\"A\", \"a\"), (\"a\", \"A\"), (\"a\", \"a\")]\n",
    "new_generation = reproduce_population(population)\n",
    "\n",
    "print(\"Nueva generación de individuos:\")\n",
    "for offspring in new_generation:\n",
    "    print(offspring)\n"
   ]
  },
  {
   "cell_type": "code",
   "execution_count": 42,
   "metadata": {},
   "outputs": [
    {
     "name": "stdout",
     "output_type": "stream",
     "text": [
      "Number of generations: 1\n"
     ]
    }
   ],
   "source": [
    "# Escriba aquí su código para el ejercicio 1.4\n",
    "import random\n",
    "\n",
    "def simulate_drift(N, p):\n",
    "    population = []\n",
    "    for _ in range(N):\n",
    "        allele = \"A\" if random.random() > p else \"a\"\n",
    "        population.append(allele)\n",
    "\n",
    "    fixation = False\n",
    "    num_generations = 0\n",
    "\n",
    "    while not fixation:\n",
    "        count_A = population.count(\"A\")\n",
    "        count_a = population.count(\"a\")\n",
    "\n",
    "        if count_A == N or count_a == N:\n",
    "            fixation = True\n",
    "\n",
    "     w\n",
    "\n",
    "        for _ in range(N):\n",
    "            parent = random.choice(population)\n",
    "            new_generation.append(parent)\n",
    "\n",
    "        population = new_generation\n",
    "        num_generations += 1\n",
    "\n",
    "    return num_generations\n",
    "\n",
    "# Ejemplo de uso\n",
    "population_size = 100\n",
    "allele_frequency = 1.5\n",
    "\n",
    "generations = simulate_drift(population_size, allele_frequency)\n",
    "print(\"Number of generations:\", generations)\n"
   ]
  },
  {
   "cell_type": "markdown",
   "metadata": {
    "id": "Hs7dXkwxsfkG"
   },
   "source": [
    "## Ejercicio 2 [5.0 puntos]\n",
    "\n",
    "Cree el modulo `glutransferase.py` y genere las siguientes funciones:\n",
    "\n",
    "2.1. `source` que se conecte al `NCBI` y `Nucleotide` para extraer el nombre del organismo fuente y que cuente la frecuencia de cada especie. Guarde el resultado en `results/source.csv`\n",
    "\n",
    "2.2. `sequences` que se conecte al `NCBI` y `Nucleotide` para extraer la secuencia de ADN, que se realice la traducción y separación de péptidos. Asegurarse que los péptidos empiezan en metionina. Luego calcule `molecular weight` e `instability index`. Genere un `joinplot` utilizando los valores de peso molecular e índice de estabilidad. Edite color, tamaño y tipo de puntos, asimismo etiquete adecuadamente el título y los ejes. Guarde los resultados en `results/glupeptides.csv` y `results/glupeptides.png`.\n",
    "\n",
    "**No escriba las funciones en este cuaderno de jupyter**\n",
    "\n",
    "2.3. Use la lista de accesiones en `data/gstm.txt`, cargue el módulo `glutransferase` y ejecute las dos funciones. "
   ]
  },
  {
   "cell_type": "code",
   "execution_count": 12,
   "metadata": {},
   "outputs": [],
   "source": [
    "# Escriba aquí su código para el ejercicio 2.1\n",
    "import glutransferase"
   ]
  },
  {
   "cell_type": "code",
   "execution_count": 13,
   "metadata": {},
   "outputs": [
    {
     "name": "stdout",
     "output_type": "stream",
     "text": [
      "Species information saved to results/source.csv\n"
     ]
    }
   ],
   "source": [
    "from Bio import Entrez\n",
    "import csv\n",
    "\n",
    "def fetch_species_info(accession):\n",
    "    handle = Entrez.efetch(db=\"nucleotide\", id=accession, rettype=\"gb\", retmode=\"text\")\n",
    "    record = handle.read()\n",
    "    handle.close()\n",
    "    return record\n",
    "\n",
    "def parse_species_info(record):\n",
    "    species_info = {}\n",
    "    for line in record.split(\"\\n\"):\n",
    "        if line.startswith(\"  ORGANISM\"):\n",
    "            species_name = line.split(\"  ORGANISM\")[1].strip()\n",
    "            if species_name in species_info:\n",
    "                species_info[species_name] += 1\n",
    "            else:\n",
    "                species_info[species_name] = 1\n",
    "    return species_info\n",
    "\n",
    "def save_species_info(species_info, filename):\n",
    "    with open(filename, \"w\", newline=\"\") as csvfile:\n",
    "        writer = csv.writer(csvfile)\n",
    "        writer.writerow([\"Species\", \"Frequency\"])\n",
    "        for species, frequency in species_info.items():\n",
    "            writer.writerow([species, frequency])\n",
    "\n",
    "def main(accessions, filename):\n",
    "    species_info = {}\n",
    "    for accession in accessions:\n",
    "        record = fetch_species_info(accession)\n",
    "        species_info.update(parse_species_info(record))\n",
    "    save_species_info(species_info, filename)\n",
    "    print(\"Species information saved to\", filename)\n",
    "\n",
    "# Configura tus credenciales de NCBI\n",
    "Entrez.email = \"elizabeth.salazar@est.ikiam.edu.ec\"\n",
    "\n",
    "# Lista de accessions de las secuencias que deseas obtener información\n",
    "accessions = [\"NM_001276933\", \"NM_001276934\", \"NM_001276935\"]\n",
    "\n",
    "# Nombre del archivo de resultados\n",
    "filename = \"results/source.csv\"\n",
    "\n",
    "# Ejecuta el programa principal\n",
    "main(accessions, filename)\n"
   ]
  },
  {
   "cell_type": "markdown",
   "metadata": {
    "id": "-MaHCuV8sfkP"
   },
   "source": [
    "## Ejercicio 0.2 [0.5 puntos]\n",
    "\n",
    "\n",
    "1. Cree un archivo ```Readme.md``` que debe tener lo siguiente:\n",
    "- Datos personales\n",
    "- Características del computador\n",
    "- Versión de Python/Anaconda y de cada uno de los módulos/paquetes y utilizados\n",
    "- Explicación de la data utilizada\n",
    "\n",
    "2. Realice al menos 1 control de la versión (commits) por cada ejercicio (del 1 al 5), con un mensaje que inicie como: \n",
    "\n",
    "```sh \n",
    "Carlitos Alimaña ha realizado el ejercicio 1.1  \n",
    "```\n",
    "```sh \n",
    "Carlitos Alimaña ha realizado el ejercicio 2.1\n",
    "```\n",
    "```sh \n",
    "...\n",
    "```\n"
   ]
  },
  {
   "cell_type": "code",
   "execution_count": null,
   "metadata": {},
   "outputs": [],
   "source": [
    "from Bio import Entrez\n",
    "\n",
    "# Configuración de Entrez\n",
    "Entrez.email = 'elizasalazarm20@hotmail.com'  # Ingresa tu dirección de correo electrónico\n",
    "\n",
    "# Cargar la lista de accesiones desde el archivo\n",
    "accession_file = 'data/gstm.txt'\n",
    "accessions = [accession]\n",
    "with open(accession_file, 'r') as file:\n",
    "    for line in file:\n",
    "        accession = line.strip()\n",
    "        accessions.append(accession)\n",
    "\n",
    "# Ejecutar las dos funciones con cada acceso\n",
    "for accession in accessions:\n",
    "    # Llamar a las funciones del módulo glutransferase (sustituir con las funciones reales)\n",
    "    glutransferase(accession)\n"
   ]
  },
  {
   "cell_type": "code",
   "execution_count": null,
   "metadata": {},
   "outputs": [],
   "source": []
  }
 ],
 "metadata": {
  "colab": {
   "provenance": []
  },
  "kernelspec": {
   "display_name": "Python 3 (ipykernel)",
   "language": "python",
   "name": "python3"
  },
  "language_info": {
   "codemirror_mode": {
    "name": "ipython",
    "version": 3
   },
   "file_extension": ".py",
   "mimetype": "text/x-python",
   "name": "python",
   "nbconvert_exporter": "python",
   "pygments_lexer": "ipython3",
   "version": "3.9.13"
  },
  "latex_envs": {
   "LaTeX_envs_menu_present": true,
   "autoclose": false,
   "autocomplete": true,
   "bibliofile": "biblio.bib",
   "cite_by": "apalike",
   "current_citInitial": 1,
   "eqLabelWithNumbers": true,
   "eqNumInitial": 1,
   "hotkeys": {
    "equation": "Ctrl-E",
    "itemize": "Ctrl-I"
   },
   "labels_anchors": false,
   "latex_user_defs": false,
   "report_style_numbering": false,
   "user_envs_cfg": false
  },
  "toc": {
   "base_numbering": 1,
   "nav_menu": {},
   "number_sections": true,
   "sideBar": false,
   "skip_h1_title": false,
   "title_cell": "Table of Contents",
   "title_sidebar": "Contents",
   "toc_cell": false,
   "toc_position": {
    "height": "1152.67px",
    "left": "41px",
    "top": "110px",
    "width": "253.458px"
   },
   "toc_section_display": true,
   "toc_window_display": false
  },
  "varInspector": {
   "cols": {
    "lenName": 16,
    "lenType": 16,
    "lenVar": 40
   },
   "kernels_config": {
    "python": {
     "delete_cmd_postfix": "",
     "delete_cmd_prefix": "del ",
     "library": "var_list.py",
     "varRefreshCmd": "print(var_dic_list())"
    },
    "r": {
     "delete_cmd_postfix": ") ",
     "delete_cmd_prefix": "rm(",
     "library": "var_list.r",
     "varRefreshCmd": "cat(var_dic_list()) "
    }
   },
   "types_to_exclude": [
    "module",
    "function",
    "builtin_function_or_method",
    "instance",
    "_Feature"
   ],
   "window_display": false
  }
 },
 "nbformat": 4,
 "nbformat_minor": 1
}
